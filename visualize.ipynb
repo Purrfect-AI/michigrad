{
 "cells": [
  {
   "cell_type": "code",
   "execution_count": null,
   "metadata": {},
   "outputs": [],
   "source": []
  },
  {
   "cell_type": "code",
   "execution_count": null,
   "metadata": {},
   "outputs": [],
   "source": [
    "from michigrad.engine import Value\n",
    "\n",
    "a = Value(2, name='a')\n",
    "b = Value(5, name='b')\n",
    "b.grad = 2.0\n",
    "c = a + b\n",
    "c.name = 'c'\n",
    "\n",
    "\n",
    "c.visualize()"
   ]
  },
  {
   "cell_type": "code",
   "execution_count": null,
   "metadata": {},
   "outputs": [],
   "source": [
    "a = Value(2, name='a')\n",
    "b = Value(5, name='b')\n",
    "c = a + b\n",
    "c.name = 'c'\n",
    "d = c * a\n",
    "d.name = 'd'\n",
    "e = d + b\n",
    "e.name = 'e'\n",
    "e.visualize()"
   ]
  }
 ],
 "metadata": {
  "language_info": {
   "name": "python"
  }
 },
 "nbformat": 4,
 "nbformat_minor": 2
}
